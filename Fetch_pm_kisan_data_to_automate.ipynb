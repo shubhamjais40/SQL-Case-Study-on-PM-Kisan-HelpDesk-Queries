{
 "cells": [
  {
   "cell_type": "code",
   "execution_count": 1,
   "id": "319136e2",
   "metadata": {},
   "outputs": [],
   "source": [
    "import requests\n",
    "\n",
    "#creating function for various link\n",
    "def fetch_link(url):\n",
    "    raw=requests.get(url).json()\n",
    "    data=raw['data']    #actualt response has two dic to remove thus used 'data' to filter, to check print 'raw'\n",
    "    return data"
   ]
  },
  {
   "cell_type": "code",
   "execution_count": 2,
   "id": "89766199",
   "metadata": {},
   "outputs": [
    {
     "name": "stdout",
     "output_type": "stream",
     "text": [
      "<class 'list'>\n"
     ]
    }
   ],
   "source": [
    "#fetch of json east godavari data manually without function\n",
    "data=requests.get('http://dackkms.gov.in/Account/API/kKMS_QueryData.aspx?StateCD=01&DistrictCd=0104&Month=1&Year=2023')\n",
    "\n",
    "dic=data.json()\n",
    "\n",
    "s=dic['data']\n",
    "print(type(s))"
   ]
  },
  {
   "cell_type": "code",
   "execution_count": 3,
   "id": "04b9be3b",
   "metadata": {},
   "outputs": [
    {
     "name": "stdout",
     "output_type": "stream",
     "text": [
      "<class 'pandas.core.frame.DataFrame'>\n",
      "RangeIndex: 214 entries, 0 to 213\n",
      "Data columns (total 11 columns):\n",
      " #   Column        Non-Null Count  Dtype \n",
      "---  ------        --------------  ----- \n",
      " 0   Season        214 non-null    object\n",
      " 1   Sector        214 non-null    object\n",
      " 2   Category      214 non-null    object\n",
      " 3   Crop          214 non-null    object\n",
      " 4   QueryType     214 non-null    object\n",
      " 5   QueryText     214 non-null    object\n",
      " 6   KccAns        214 non-null    object\n",
      " 7   StateName     214 non-null    object\n",
      " 8   DistrictName  214 non-null    object\n",
      " 9   BlockName     214 non-null    object\n",
      " 10  CreatedOn     214 non-null    object\n",
      "dtypes: object(11)\n",
      "memory usage: 18.5+ KB\n"
     ]
    }
   ],
   "source": [
    "#convert to pandas dataframe\n",
    "import pandas as pd\n",
    "dfs_jan=pd.DataFrame(s)\n",
    "dfs_jan.info()"
   ]
  },
  {
   "cell_type": "code",
   "execution_count": 4,
   "id": "f90884ff",
   "metadata": {},
   "outputs": [
    {
     "name": "stdout",
     "output_type": "stream",
     "text": [
      "<class 'pandas.core.frame.DataFrame'>\n",
      "RangeIndex: 235 entries, 0 to 234\n",
      "Data columns (total 11 columns):\n",
      " #   Column        Non-Null Count  Dtype \n",
      "---  ------        --------------  ----- \n",
      " 0   Season        235 non-null    object\n",
      " 1   Sector        235 non-null    object\n",
      " 2   Category      235 non-null    object\n",
      " 3   Crop          235 non-null    object\n",
      " 4   QueryType     235 non-null    object\n",
      " 5   QueryText     235 non-null    object\n",
      " 6   KccAns        235 non-null    object\n",
      " 7   StateName     235 non-null    object\n",
      " 8   DistrictName  235 non-null    object\n",
      " 9   BlockName     235 non-null    object\n",
      " 10  CreatedOn     235 non-null    object\n",
      "dtypes: object(11)\n",
      "memory usage: 20.3+ KB\n"
     ]
    }
   ],
   "source": [
    "#fetch of feb data for east godavari\n",
    "url='http://dackkms.gov.in/Account/API/kKMS_QueryData.aspx?StateCD=01&DistrictCd=0104&Month=2&Year=2023'\n",
    "df_feb=fetch_link(url)\n",
    "\n",
    "df_Feb=pd.DataFrame(df_feb)\n",
    "\n",
    "#check data quality\n",
    "df_Feb.info()\n",
    "\n",
    "#all column have 235 non value data i.e no null"
   ]
  },
  {
   "cell_type": "code",
   "execution_count": 59,
   "id": "ff956c28",
   "metadata": {},
   "outputs": [],
   "source": [
    "#now lets write both files to csv\n",
    "dfs_jan.to_csv('East_jan_AP.csv')"
   ]
  },
  {
   "cell_type": "code",
   "execution_count": 61,
   "id": "ef1ab013",
   "metadata": {},
   "outputs": [],
   "source": [
    "df_Feb.to_csv('East_feb_AP.csv')"
   ]
  },
  {
   "cell_type": "code",
   "execution_count": 7,
   "id": "644decc3",
   "metadata": {},
   "outputs": [
    {
     "data": {
      "text/html": [
       "<div>\n",
       "<style scoped>\n",
       "    .dataframe tbody tr th:only-of-type {\n",
       "        vertical-align: middle;\n",
       "    }\n",
       "\n",
       "    .dataframe tbody tr th {\n",
       "        vertical-align: top;\n",
       "    }\n",
       "\n",
       "    .dataframe thead th {\n",
       "        text-align: right;\n",
       "    }\n",
       "</style>\n",
       "<table border=\"1\" class=\"dataframe\">\n",
       "  <thead>\n",
       "    <tr style=\"text-align: right;\">\n",
       "      <th></th>\n",
       "      <th>Season</th>\n",
       "      <th>Sector</th>\n",
       "      <th>Category</th>\n",
       "      <th>Crop</th>\n",
       "      <th>QueryType</th>\n",
       "      <th>QueryText</th>\n",
       "      <th>KccAns</th>\n",
       "      <th>StateName</th>\n",
       "      <th>DistrictName</th>\n",
       "      <th>BlockName</th>\n",
       "      <th>CreatedOn</th>\n",
       "    </tr>\n",
       "  </thead>\n",
       "  <tbody>\n",
       "    <tr>\n",
       "      <th>0</th>\n",
       "      <td>NA</td>\n",
       "      <td>AGRICULTURE</td>\n",
       "      <td>Millets</td>\n",
       "      <td>Maize (Makka)</td>\n",
       "      <td>Nutrient Management</td>\n",
       "      <td>Farmer asked query on NANO UREA  APPLICATION I...</td>\n",
       "      <td>RECOMMENDED TO APLLY  NANO UREA  APPLICATION I...</td>\n",
       "      <td>ANDHRA PRADESH</td>\n",
       "      <td>EAST GODAVARI</td>\n",
       "      <td>ATREYAPURAM</td>\n",
       "      <td>2023-01-01T15:25:35.657</td>\n",
       "    </tr>\n",
       "    <tr>\n",
       "      <th>1</th>\n",
       "      <td>NA</td>\n",
       "      <td>AGRICULTURE</td>\n",
       "      <td>Oilseeds</td>\n",
       "      <td>Groundnut (pea nut/mung phalli)</td>\n",
       "      <td>Fertilizer Use and Availability</td>\n",
       "      <td>farmer asked query on compatibility test betwe...</td>\n",
       "      <td>Recommended to go for  compatibility test betw...</td>\n",
       "      <td>ANDHRA PRADESH</td>\n",
       "      <td>EAST GODAVARI</td>\n",
       "      <td>ATREYAPURAM</td>\n",
       "      <td>2023-01-01T15:48:36.167</td>\n",
       "    </tr>\n",
       "    <tr>\n",
       "      <th>2</th>\n",
       "      <td>NA</td>\n",
       "      <td>AGRICULTURE</td>\n",
       "      <td>Cereals</td>\n",
       "      <td>Paddy (Dhan)</td>\n",
       "      <td>Nutrient Management</td>\n",
       "      <td>FARMER ASKED QUERY ABOUT NUTRIENT MANAGEMENT I...</td>\n",
       "      <td>RECOMMENDED TO SPRAY NPK 19-19-19 MIXTURE  5 G...</td>\n",
       "      <td>ANDHRA PRADESH</td>\n",
       "      <td>EAST GODAVARI</td>\n",
       "      <td>ALAMURU</td>\n",
       "      <td>2023-01-01T17:50:06.553</td>\n",
       "    </tr>\n",
       "    <tr>\n",
       "      <th>3</th>\n",
       "      <td>NA</td>\n",
       "      <td>AGRICULTURE</td>\n",
       "      <td>Cereals</td>\n",
       "      <td>Paddy (Dhan)</td>\n",
       "      <td>Weather</td>\n",
       "      <td>Farmer asked query on Weather</td>\n",
       "      <td>TODAY THERE IS CHANCE OF CLOUDY WEATHER IN YOU...</td>\n",
       "      <td>ANDHRA PRADESH</td>\n",
       "      <td>EAST GODAVARI</td>\n",
       "      <td>UPPALAGUPTAM</td>\n",
       "      <td>2023-01-02T08:15:07.047</td>\n",
       "    </tr>\n",
       "    <tr>\n",
       "      <th>4</th>\n",
       "      <td>NA</td>\n",
       "      <td>AGRICULTURE</td>\n",
       "      <td>Cereals</td>\n",
       "      <td>Paddy (Dhan)</td>\n",
       "      <td>Weather</td>\n",
       "      <td>Farmer asked query on Weather</td>\n",
       "      <td>DRY WEATHER, NO CHANCE OF SHOWERS IN YOUR AREA...</td>\n",
       "      <td>ANDHRA PRADESH</td>\n",
       "      <td>EAST GODAVARI</td>\n",
       "      <td>ANAPARTHY</td>\n",
       "      <td>2023-01-02T09:53:12.797</td>\n",
       "    </tr>\n",
       "  </tbody>\n",
       "</table>\n",
       "</div>"
      ],
      "text/plain": [
       "  Season       Sector  Category                             Crop  \\\n",
       "0     NA  AGRICULTURE   Millets                    Maize (Makka)   \n",
       "1     NA  AGRICULTURE  Oilseeds  Groundnut (pea nut/mung phalli)   \n",
       "2     NA  AGRICULTURE   Cereals                     Paddy (Dhan)   \n",
       "3     NA  AGRICULTURE   Cereals                     Paddy (Dhan)   \n",
       "4     NA  AGRICULTURE   Cereals                     Paddy (Dhan)   \n",
       "\n",
       "                         QueryType  \\\n",
       "0              Nutrient Management   \n",
       "1  Fertilizer Use and Availability   \n",
       "2              Nutrient Management   \n",
       "3                          Weather   \n",
       "4                          Weather   \n",
       "\n",
       "                                           QueryText  \\\n",
       "0  Farmer asked query on NANO UREA  APPLICATION I...   \n",
       "1  farmer asked query on compatibility test betwe...   \n",
       "2  FARMER ASKED QUERY ABOUT NUTRIENT MANAGEMENT I...   \n",
       "3                      Farmer asked query on Weather   \n",
       "4                      Farmer asked query on Weather   \n",
       "\n",
       "                                              KccAns       StateName  \\\n",
       "0  RECOMMENDED TO APLLY  NANO UREA  APPLICATION I...  ANDHRA PRADESH   \n",
       "1  Recommended to go for  compatibility test betw...  ANDHRA PRADESH   \n",
       "2  RECOMMENDED TO SPRAY NPK 19-19-19 MIXTURE  5 G...  ANDHRA PRADESH   \n",
       "3  TODAY THERE IS CHANCE OF CLOUDY WEATHER IN YOU...  ANDHRA PRADESH   \n",
       "4  DRY WEATHER, NO CHANCE OF SHOWERS IN YOUR AREA...  ANDHRA PRADESH   \n",
       "\n",
       "    DistrictName     BlockName                CreatedOn  \n",
       "0  EAST GODAVARI   ATREYAPURAM  2023-01-01T15:25:35.657  \n",
       "1  EAST GODAVARI   ATREYAPURAM  2023-01-01T15:48:36.167  \n",
       "2  EAST GODAVARI       ALAMURU  2023-01-01T17:50:06.553  \n",
       "3  EAST GODAVARI  UPPALAGUPTAM  2023-01-02T08:15:07.047  \n",
       "4  EAST GODAVARI     ANAPARTHY  2023-01-02T09:53:12.797  "
      ]
     },
     "execution_count": 7,
     "metadata": {},
     "output_type": "execute_result"
    }
   ],
   "source": [
    "dfs_jan.head(5)"
   ]
  },
  {
   "cell_type": "code",
   "execution_count": null,
   "id": "9a836046",
   "metadata": {},
   "outputs": [],
   "source": []
  }
 ],
 "metadata": {
  "kernelspec": {
   "display_name": "Python 3",
   "language": "python",
   "name": "python3"
  },
  "language_info": {
   "codemirror_mode": {
    "name": "ipython",
    "version": 3
   },
   "file_extension": ".py",
   "mimetype": "text/x-python",
   "name": "python",
   "nbconvert_exporter": "python",
   "pygments_lexer": "ipython3",
   "version": "3.8.8"
  }
 },
 "nbformat": 4,
 "nbformat_minor": 5
}
